{
 "cells": [
  {
   "cell_type": "code",
   "execution_count": 45,
   "metadata": {},
   "outputs": [],
   "source": [
    "import pandas as pd\n",
    "from matplotlib import pyplot as plt\n",
    "import plotly.graph_objects as go\n",
    "import numpy as np\n",
    "import os\n",
    "from scipy.signal import argrelextrema\n",
    "from detecta import detect_peaks\n",
    "\n",
    "from scipy import interpolate\n"
   ]
  },
  {
   "cell_type": "code",
   "execution_count": 64,
   "metadata": {},
   "outputs": [],
   "source": [
    "baseline_accuracy=0.871874988079071"
   ]
  },
  {
   "cell_type": "code",
   "execution_count": 46,
   "metadata": {},
   "outputs": [],
   "source": [
    "# the songhan values\n",
    "df_snhn=pd.read_csv(\"results_sheet/song_hn.csv\")\n",
    "df_snhn=df_snhn.sort_values(by=[\"compression\"])\n",
    "\n",
    "\n",
    "#the thresholding on evolutionary weights values\n",
    "df_mean_wt=pd.read_csv(\"results_sheet/02_py_mean_weighted.csv\")\n",
    "df_mean_wt=df_mean_wt.sort_values(by=[\"compression\"])\n"
   ]
  },
  {
   "cell_type": "code",
   "execution_count": 47,
   "metadata": {},
   "outputs": [],
   "source": [
    "manual_compressions=[0.037283, 0.110376, 0.147058, 0.292117, 0.400215, 0.471433, 0.5416, 0.609729, 0.642984, \n",
    "                     0.737723, 0.823288, 0.917499, 0.937824, 0.939476, 0.94189, 0.947356, 0.952241, 0.955961, \n",
    "                     0.958972, 0.961905, 0.964393, 0.966696, 0.968891, 0.970922, 0.972809, 0.974683, 0.976314, \n",
    "                     0.977867, 0.979354, 0.980672, 0.981851, 0.986757, 0.989879, 0.990068, 0.99027, 0.990501, \n",
    "                     0.993801, 0.993858, 0.993965, 0.994048, 0.994142, 0.994307, 0.995102, 0.995819, 0.996317, \n",
    "                     0.996721, 0.996721, 0.996952    \n",
    "]\n",
    "manual_val_top_1=[0.879395, 0.880957, 0.861621, 0.871094, 0.871582, 0.875, 0.879883, 0.87793, 0.872461, 0.876758, \n",
    "                  0.872363, 0.870605, 0.868945, 0.865234, 0.865234, 0.862988, 0.861621, 0.860645, 0.860156, \n",
    "                  0.843555, 0.839453, 0.839551, 0.837793, 0.77002, 0.765332, 0.763672, 0.760742, 0.759961, 0.756738,\n",
    "                  0.756934, 0.755469, 0.606934, 0.503223, 0.50293, 0.499121, 0.499512, 0.434863, 0.445898, 0.447266,\n",
    "                  0.447168, 0.447754, 0.438574, 0.28291, 0.1875, 0.184375, 0.184961, 0.184863, 0.097656    \n",
    "    \n",
    "]\n",
    "\n",
    "df_snhn=pd.DataFrame({\"compression\":manual_compressions,\n",
    "                                     \"top_1\":manual_val_top_1})\n"
   ]
  },
  {
   "cell_type": "code",
   "execution_count": 48,
   "metadata": {},
   "outputs": [
    {
     "data": {
      "text/html": [
       "<div>\n",
       "<style scoped>\n",
       "    .dataframe tbody tr th:only-of-type {\n",
       "        vertical-align: middle;\n",
       "    }\n",
       "\n",
       "    .dataframe tbody tr th {\n",
       "        vertical-align: top;\n",
       "    }\n",
       "\n",
       "    .dataframe thead th {\n",
       "        text-align: right;\n",
       "    }\n",
       "</style>\n",
       "<table border=\"1\" class=\"dataframe\">\n",
       "  <thead>\n",
       "    <tr style=\"text-align: right;\">\n",
       "      <th></th>\n",
       "      <th>compression</th>\n",
       "      <th>top_1</th>\n",
       "    </tr>\n",
       "  </thead>\n",
       "  <tbody>\n",
       "    <tr>\n",
       "      <th>0</th>\n",
       "      <td>0.037283</td>\n",
       "      <td>0.879395</td>\n",
       "    </tr>\n",
       "    <tr>\n",
       "      <th>1</th>\n",
       "      <td>0.110376</td>\n",
       "      <td>0.880957</td>\n",
       "    </tr>\n",
       "    <tr>\n",
       "      <th>2</th>\n",
       "      <td>0.147058</td>\n",
       "      <td>0.861621</td>\n",
       "    </tr>\n",
       "    <tr>\n",
       "      <th>3</th>\n",
       "      <td>0.292117</td>\n",
       "      <td>0.871094</td>\n",
       "    </tr>\n",
       "    <tr>\n",
       "      <th>4</th>\n",
       "      <td>0.400215</td>\n",
       "      <td>0.871582</td>\n",
       "    </tr>\n",
       "    <tr>\n",
       "      <th>5</th>\n",
       "      <td>0.471433</td>\n",
       "      <td>0.875000</td>\n",
       "    </tr>\n",
       "    <tr>\n",
       "      <th>6</th>\n",
       "      <td>0.541600</td>\n",
       "      <td>0.879883</td>\n",
       "    </tr>\n",
       "    <tr>\n",
       "      <th>7</th>\n",
       "      <td>0.609729</td>\n",
       "      <td>0.877930</td>\n",
       "    </tr>\n",
       "    <tr>\n",
       "      <th>8</th>\n",
       "      <td>0.642984</td>\n",
       "      <td>0.872461</td>\n",
       "    </tr>\n",
       "    <tr>\n",
       "      <th>9</th>\n",
       "      <td>0.737723</td>\n",
       "      <td>0.876758</td>\n",
       "    </tr>\n",
       "    <tr>\n",
       "      <th>10</th>\n",
       "      <td>0.823288</td>\n",
       "      <td>0.872363</td>\n",
       "    </tr>\n",
       "    <tr>\n",
       "      <th>11</th>\n",
       "      <td>0.917499</td>\n",
       "      <td>0.870605</td>\n",
       "    </tr>\n",
       "    <tr>\n",
       "      <th>12</th>\n",
       "      <td>0.937824</td>\n",
       "      <td>0.868945</td>\n",
       "    </tr>\n",
       "    <tr>\n",
       "      <th>13</th>\n",
       "      <td>0.939476</td>\n",
       "      <td>0.865234</td>\n",
       "    </tr>\n",
       "    <tr>\n",
       "      <th>14</th>\n",
       "      <td>0.941890</td>\n",
       "      <td>0.865234</td>\n",
       "    </tr>\n",
       "    <tr>\n",
       "      <th>15</th>\n",
       "      <td>0.947356</td>\n",
       "      <td>0.862988</td>\n",
       "    </tr>\n",
       "    <tr>\n",
       "      <th>16</th>\n",
       "      <td>0.952241</td>\n",
       "      <td>0.861621</td>\n",
       "    </tr>\n",
       "    <tr>\n",
       "      <th>17</th>\n",
       "      <td>0.955961</td>\n",
       "      <td>0.860645</td>\n",
       "    </tr>\n",
       "    <tr>\n",
       "      <th>18</th>\n",
       "      <td>0.958972</td>\n",
       "      <td>0.860156</td>\n",
       "    </tr>\n",
       "    <tr>\n",
       "      <th>19</th>\n",
       "      <td>0.961905</td>\n",
       "      <td>0.843555</td>\n",
       "    </tr>\n",
       "    <tr>\n",
       "      <th>20</th>\n",
       "      <td>0.964393</td>\n",
       "      <td>0.839453</td>\n",
       "    </tr>\n",
       "    <tr>\n",
       "      <th>21</th>\n",
       "      <td>0.966696</td>\n",
       "      <td>0.839551</td>\n",
       "    </tr>\n",
       "    <tr>\n",
       "      <th>22</th>\n",
       "      <td>0.968891</td>\n",
       "      <td>0.837793</td>\n",
       "    </tr>\n",
       "    <tr>\n",
       "      <th>23</th>\n",
       "      <td>0.970922</td>\n",
       "      <td>0.770020</td>\n",
       "    </tr>\n",
       "    <tr>\n",
       "      <th>24</th>\n",
       "      <td>0.972809</td>\n",
       "      <td>0.765332</td>\n",
       "    </tr>\n",
       "    <tr>\n",
       "      <th>25</th>\n",
       "      <td>0.974683</td>\n",
       "      <td>0.763672</td>\n",
       "    </tr>\n",
       "    <tr>\n",
       "      <th>26</th>\n",
       "      <td>0.976314</td>\n",
       "      <td>0.760742</td>\n",
       "    </tr>\n",
       "    <tr>\n",
       "      <th>27</th>\n",
       "      <td>0.977867</td>\n",
       "      <td>0.759961</td>\n",
       "    </tr>\n",
       "    <tr>\n",
       "      <th>28</th>\n",
       "      <td>0.979354</td>\n",
       "      <td>0.756738</td>\n",
       "    </tr>\n",
       "    <tr>\n",
       "      <th>29</th>\n",
       "      <td>0.980672</td>\n",
       "      <td>0.756934</td>\n",
       "    </tr>\n",
       "    <tr>\n",
       "      <th>30</th>\n",
       "      <td>0.981851</td>\n",
       "      <td>0.755469</td>\n",
       "    </tr>\n",
       "    <tr>\n",
       "      <th>31</th>\n",
       "      <td>0.986757</td>\n",
       "      <td>0.606934</td>\n",
       "    </tr>\n",
       "    <tr>\n",
       "      <th>32</th>\n",
       "      <td>0.989879</td>\n",
       "      <td>0.503223</td>\n",
       "    </tr>\n",
       "    <tr>\n",
       "      <th>33</th>\n",
       "      <td>0.990068</td>\n",
       "      <td>0.502930</td>\n",
       "    </tr>\n",
       "    <tr>\n",
       "      <th>34</th>\n",
       "      <td>0.990270</td>\n",
       "      <td>0.499121</td>\n",
       "    </tr>\n",
       "    <tr>\n",
       "      <th>35</th>\n",
       "      <td>0.990501</td>\n",
       "      <td>0.499512</td>\n",
       "    </tr>\n",
       "    <tr>\n",
       "      <th>36</th>\n",
       "      <td>0.993801</td>\n",
       "      <td>0.434863</td>\n",
       "    </tr>\n",
       "    <tr>\n",
       "      <th>37</th>\n",
       "      <td>0.993858</td>\n",
       "      <td>0.445898</td>\n",
       "    </tr>\n",
       "    <tr>\n",
       "      <th>38</th>\n",
       "      <td>0.993965</td>\n",
       "      <td>0.447266</td>\n",
       "    </tr>\n",
       "    <tr>\n",
       "      <th>39</th>\n",
       "      <td>0.994048</td>\n",
       "      <td>0.447168</td>\n",
       "    </tr>\n",
       "    <tr>\n",
       "      <th>40</th>\n",
       "      <td>0.994142</td>\n",
       "      <td>0.447754</td>\n",
       "    </tr>\n",
       "    <tr>\n",
       "      <th>41</th>\n",
       "      <td>0.994307</td>\n",
       "      <td>0.438574</td>\n",
       "    </tr>\n",
       "    <tr>\n",
       "      <th>42</th>\n",
       "      <td>0.995102</td>\n",
       "      <td>0.282910</td>\n",
       "    </tr>\n",
       "    <tr>\n",
       "      <th>43</th>\n",
       "      <td>0.995819</td>\n",
       "      <td>0.187500</td>\n",
       "    </tr>\n",
       "    <tr>\n",
       "      <th>44</th>\n",
       "      <td>0.996317</td>\n",
       "      <td>0.184375</td>\n",
       "    </tr>\n",
       "    <tr>\n",
       "      <th>45</th>\n",
       "      <td>0.996721</td>\n",
       "      <td>0.184961</td>\n",
       "    </tr>\n",
       "    <tr>\n",
       "      <th>46</th>\n",
       "      <td>0.996721</td>\n",
       "      <td>0.184863</td>\n",
       "    </tr>\n",
       "    <tr>\n",
       "      <th>47</th>\n",
       "      <td>0.996952</td>\n",
       "      <td>0.097656</td>\n",
       "    </tr>\n",
       "  </tbody>\n",
       "</table>\n",
       "</div>"
      ],
      "text/plain": [
       "    compression     top_1\n",
       "0      0.037283  0.879395\n",
       "1      0.110376  0.880957\n",
       "2      0.147058  0.861621\n",
       "3      0.292117  0.871094\n",
       "4      0.400215  0.871582\n",
       "5      0.471433  0.875000\n",
       "6      0.541600  0.879883\n",
       "7      0.609729  0.877930\n",
       "8      0.642984  0.872461\n",
       "9      0.737723  0.876758\n",
       "10     0.823288  0.872363\n",
       "11     0.917499  0.870605\n",
       "12     0.937824  0.868945\n",
       "13     0.939476  0.865234\n",
       "14     0.941890  0.865234\n",
       "15     0.947356  0.862988\n",
       "16     0.952241  0.861621\n",
       "17     0.955961  0.860645\n",
       "18     0.958972  0.860156\n",
       "19     0.961905  0.843555\n",
       "20     0.964393  0.839453\n",
       "21     0.966696  0.839551\n",
       "22     0.968891  0.837793\n",
       "23     0.970922  0.770020\n",
       "24     0.972809  0.765332\n",
       "25     0.974683  0.763672\n",
       "26     0.976314  0.760742\n",
       "27     0.977867  0.759961\n",
       "28     0.979354  0.756738\n",
       "29     0.980672  0.756934\n",
       "30     0.981851  0.755469\n",
       "31     0.986757  0.606934\n",
       "32     0.989879  0.503223\n",
       "33     0.990068  0.502930\n",
       "34     0.990270  0.499121\n",
       "35     0.990501  0.499512\n",
       "36     0.993801  0.434863\n",
       "37     0.993858  0.445898\n",
       "38     0.993965  0.447266\n",
       "39     0.994048  0.447168\n",
       "40     0.994142  0.447754\n",
       "41     0.994307  0.438574\n",
       "42     0.995102  0.282910\n",
       "43     0.995819  0.187500\n",
       "44     0.996317  0.184375\n",
       "45     0.996721  0.184961\n",
       "46     0.996721  0.184863\n",
       "47     0.996952  0.097656"
      ]
     },
     "execution_count": 48,
     "metadata": {},
     "output_type": "execute_result"
    }
   ],
   "source": [
    "df_snhn"
   ]
  },
  {
   "cell_type": "code",
   "execution_count": 49,
   "metadata": {},
   "outputs": [],
   "source": [
    "\n",
    "\n",
    "\n",
    "\n",
    "\n",
    "\n",
    "\n",
    "manual_compressions=[0.064668, 0.127392, 0.190491, 0.253656, 0.379129, 0.502529, 0.562757, 0.678426, 0.784278, 0.871883, 0.923682, \n",
    " 0.932432, 0.940188, 0.947006, 0.952929, 0.955075, 0.956155, 0.958202, 0.962193, 0.970786, 0.972076, 0.976866, \n",
    " 0.979371, 0.983506, 0.985216, 0.987861, 0.991444, 0.99385, 0.997722]\n",
    "\n",
    "\n",
    "manual_val_top_1=[0.877344, 0.87998, 0.879883, 0.880762, 0.880859, 0.87998, 0.878809, 0.877441, 0.875781, 0.87207, 0.865723, \n",
    " 0.866797, 0.868359, 0.866895, 0.866406, 0.864355, 0.864355, 0.861719, 0.864355, 0.860547, 0.855469, 0.848926, \n",
    " 0.841797, 0.841309, 0.835645, 0.80625, 0.687109, 0.574707, 0.175098]\n",
    "\n",
    "\n",
    "df_mean_wt_best_manual=pd.DataFrame({\"compression\":manual_compressions,\n",
    "                                     \"val_top_1\":manual_val_top_1})\n"
   ]
  },
  {
   "cell_type": "code",
   "execution_count": null,
   "metadata": {},
   "outputs": [],
   "source": []
  },
  {
   "cell_type": "code",
   "execution_count": 50,
   "metadata": {},
   "outputs": [
    {
     "name": "stdout",
     "output_type": "stream",
     "text": [
      "(87200, 2)\n",
      "(89421, 2)\n"
     ]
    }
   ],
   "source": [
    "### BEzier on mean\n",
    "\n",
    "# More involved method of getting better values\n",
    "\n",
    "# Compression more than song han and accuracy better than the same\n",
    "\n",
    "# df_snhn=pd.read_csv(\"results_sheet/song_hn.csv\")\n",
    "# df_snhn=pd.read_csv(\"results_sheet/song_hn.csv\")\n",
    "# df_snhn=df_snhn.sort_values(by=[\"compression\"])\n",
    "\n",
    "######################################################\n",
    "\n",
    "df_bezier_on_mean=pd.read_csv(\"results_sheet/03_bezier_on_mean_03JanTry.csv\")\n",
    "df_bezier_on_mean=df_bezier_on_mean.sort_values(by=[\"range_params\",\"upscale\",\"upscale_method\"],ascending=True)\n",
    "\n",
    "df_bezier_on_mean=df_bezier_on_mean[[\"compression\",\"val_top_1\"]]\n",
    "print(df_bezier_on_mean.shape)\n",
    "\n",
    "# the songhan application\n",
    "df_song_onBezmean=pd.read_csv(\"results_sheet/03song_hn_onBezMeans.csv\")\n",
    "df_song_onBezmean=df_song_onBezmean.sort_values(by=[\"compression\"])\n",
    "df_song_onBezmean=df_song_onBezmean[[\"compression\",\"val_top_1\"]]\n",
    "\n",
    "# persisted bezier on mean\n",
    "df_bezier_on_mean_pers=pd.read_csv(\"results_sheet/03_bezier_on_mean_pers_18JanTry.csv\")\n",
    "df_bezier_on_mean_pers=df_bezier_on_mean_pers.sort_values(by=[\"upscale\",\"epoch_number\"],ascending=True)\n",
    "df_bezier_on_mean_pers=df_bezier_on_mean_pers[[\"compression\",\"val_top_1\"]]\n",
    "\n",
    "df_bezier_on_mean=pd.concat([df_bezier_on_mean,df_song_onBezmean,df_bezier_on_mean_pers],ignore_index=True)\n",
    "\n",
    "print(df_bezier_on_mean.shape)\n",
    "\n",
    "######################################################\n",
    "\n",
    "\n",
    "snhnComp=list(df_snhn.compression)\n",
    "snhnAcc=list(df_snhn.top_1)\n",
    "\n",
    "\n",
    "best_compression_acc={}\n",
    "# best_compression_acc[\"range_params\"]=[]\n",
    "# best_compression_acc[\"upscale\"]=[]\n",
    "# best_compression_acc[\"upscale_method\"]=[]\n",
    "# best_compression_acc[\"epoch_number\"]=[]\n",
    "\n",
    "best_compression_acc[\"compression\"]=[]\n",
    "best_compression_acc[\"val_top_1\"]=[]\n",
    "\n",
    "\n",
    "\n",
    "for i in range(len(snhnComp)-1):\n",
    "#     print(snhnComp[i],snhnComp[i+1])\n",
    "    acc_snhn=snhnAcc[i]\n",
    "    # find all data in bezierOnMean whose compression lies between given compression\n",
    "    df_bezier_on_mean_in_between=df_bezier_on_mean[(df_bezier_on_mean[\"compression\"]>snhnComp[i])&(df_bezier_on_mean[\"compression\"]<=snhnComp[i+1])]\n",
    "    # in this range, save the one with the maximum accuracy\n",
    "    if df_bezier_on_mean_in_between.shape[0]>=1:\n",
    "        # data exists, lets find the best\n",
    "        df_bezier_on_mean_in_between=df_bezier_on_mean_in_between.sort_values(by=[\"val_top_1\"],ascending=True)\n",
    "        bez_acc=list(df_bezier_on_mean_in_between[\"val_top_1\"])[-1]\n",
    "        if bez_acc>=acc_snhn:\n",
    "        \n",
    "            best_compression_acc[\"compression\"].append(list(df_bezier_on_mean_in_between[\"compression\"])[-1])\n",
    "            best_compression_acc[\"val_top_1\"].append(list(df_bezier_on_mean_in_between[\"val_top_1\"])[-1])\n",
    "#             best_compression_acc[\"upscale\"].append(list(df_bezier_on_mean_in_between[\"upscale\"])[-1])\n",
    "#             best_compression_acc[\"upscale_method\"].append(list(df_bezier_on_mean_in_between[\"upscale_method\"])[-1])\n",
    "#             best_compression_acc[\"epoch_number\"].append(list(df_bezier_on_mean_in_between[\"epoch_number\"])[-1])\n",
    "#             best_compression_acc[\"range_params\"].append(list(df_bezier_on_mean_in_between[\"range_params\"])[-1])\n",
    "\n",
    "df_bez_mean_best=pd.DataFrame(best_compression_acc)\n",
    "# print(df_bez_mean_best)\n"
   ]
  },
  {
   "cell_type": "code",
   "execution_count": 51,
   "metadata": {},
   "outputs": [
    {
     "data": {
      "text/html": [
       "<div>\n",
       "<style scoped>\n",
       "    .dataframe tbody tr th:only-of-type {\n",
       "        vertical-align: middle;\n",
       "    }\n",
       "\n",
       "    .dataframe tbody tr th {\n",
       "        vertical-align: top;\n",
       "    }\n",
       "\n",
       "    .dataframe thead th {\n",
       "        text-align: right;\n",
       "    }\n",
       "</style>\n",
       "<table border=\"1\" class=\"dataframe\">\n",
       "  <thead>\n",
       "    <tr style=\"text-align: right;\">\n",
       "      <th></th>\n",
       "      <th>compression</th>\n",
       "      <th>val_top_1</th>\n",
       "    </tr>\n",
       "  </thead>\n",
       "  <tbody>\n",
       "    <tr>\n",
       "      <th>0</th>\n",
       "      <td>0.061583</td>\n",
       "      <td>0.891504</td>\n",
       "    </tr>\n",
       "    <tr>\n",
       "      <th>1</th>\n",
       "      <td>0.113687</td>\n",
       "      <td>0.892187</td>\n",
       "    </tr>\n",
       "    <tr>\n",
       "      <th>2</th>\n",
       "      <td>0.166196</td>\n",
       "      <td>0.891992</td>\n",
       "    </tr>\n",
       "    <tr>\n",
       "      <th>3</th>\n",
       "      <td>0.385670</td>\n",
       "      <td>0.893750</td>\n",
       "    </tr>\n",
       "    <tr>\n",
       "      <th>4</th>\n",
       "      <td>0.469130</td>\n",
       "      <td>0.888574</td>\n",
       "    </tr>\n",
       "    <tr>\n",
       "      <th>5</th>\n",
       "      <td>0.541411</td>\n",
       "      <td>0.895801</td>\n",
       "    </tr>\n",
       "    <tr>\n",
       "      <th>6</th>\n",
       "      <td>0.541629</td>\n",
       "      <td>0.894824</td>\n",
       "    </tr>\n",
       "    <tr>\n",
       "      <th>7</th>\n",
       "      <td>0.632764</td>\n",
       "      <td>0.890918</td>\n",
       "    </tr>\n",
       "    <tr>\n",
       "      <th>8</th>\n",
       "      <td>0.668037</td>\n",
       "      <td>0.895020</td>\n",
       "    </tr>\n",
       "    <tr>\n",
       "      <th>9</th>\n",
       "      <td>0.755415</td>\n",
       "      <td>0.894238</td>\n",
       "    </tr>\n",
       "    <tr>\n",
       "      <th>10</th>\n",
       "      <td>0.854569</td>\n",
       "      <td>0.891113</td>\n",
       "    </tr>\n",
       "    <tr>\n",
       "      <th>11</th>\n",
       "      <td>0.922640</td>\n",
       "      <td>0.883887</td>\n",
       "    </tr>\n",
       "    <tr>\n",
       "      <th>12</th>\n",
       "      <td>0.939327</td>\n",
       "      <td>0.881934</td>\n",
       "    </tr>\n",
       "    <tr>\n",
       "      <th>13</th>\n",
       "      <td>0.940720</td>\n",
       "      <td>0.879590</td>\n",
       "    </tr>\n",
       "    <tr>\n",
       "      <th>14</th>\n",
       "      <td>0.943039</td>\n",
       "      <td>0.878613</td>\n",
       "    </tr>\n",
       "    <tr>\n",
       "      <th>15</th>\n",
       "      <td>0.958943</td>\n",
       "      <td>0.875098</td>\n",
       "    </tr>\n",
       "    <tr>\n",
       "      <th>16</th>\n",
       "      <td>0.960813</td>\n",
       "      <td>0.867285</td>\n",
       "    </tr>\n",
       "    <tr>\n",
       "      <th>17</th>\n",
       "      <td>0.963858</td>\n",
       "      <td>0.864648</td>\n",
       "    </tr>\n",
       "    <tr>\n",
       "      <th>18</th>\n",
       "      <td>0.965312</td>\n",
       "      <td>0.870215</td>\n",
       "    </tr>\n",
       "    <tr>\n",
       "      <th>19</th>\n",
       "      <td>0.967878</td>\n",
       "      <td>0.863965</td>\n",
       "    </tr>\n",
       "    <tr>\n",
       "      <th>20</th>\n",
       "      <td>0.970951</td>\n",
       "      <td>0.802734</td>\n",
       "    </tr>\n",
       "    <tr>\n",
       "      <th>21</th>\n",
       "      <td>0.972982</td>\n",
       "      <td>0.798926</td>\n",
       "    </tr>\n",
       "    <tr>\n",
       "      <th>22</th>\n",
       "      <td>0.975519</td>\n",
       "      <td>0.847070</td>\n",
       "    </tr>\n",
       "    <tr>\n",
       "      <th>23</th>\n",
       "      <td>0.976776</td>\n",
       "      <td>0.843262</td>\n",
       "    </tr>\n",
       "    <tr>\n",
       "      <th>24</th>\n",
       "      <td>0.979029</td>\n",
       "      <td>0.848437</td>\n",
       "    </tr>\n",
       "    <tr>\n",
       "      <th>25</th>\n",
       "      <td>0.980429</td>\n",
       "      <td>0.843066</td>\n",
       "    </tr>\n",
       "    <tr>\n",
       "      <th>26</th>\n",
       "      <td>0.980944</td>\n",
       "      <td>0.841113</td>\n",
       "    </tr>\n",
       "    <tr>\n",
       "      <th>27</th>\n",
       "      <td>0.985134</td>\n",
       "      <td>0.807617</td>\n",
       "    </tr>\n",
       "    <tr>\n",
       "      <th>28</th>\n",
       "      <td>0.987708</td>\n",
       "      <td>0.673633</td>\n",
       "    </tr>\n",
       "    <tr>\n",
       "      <th>29</th>\n",
       "      <td>0.989928</td>\n",
       "      <td>0.551465</td>\n",
       "    </tr>\n",
       "    <tr>\n",
       "      <th>30</th>\n",
       "      <td>0.990101</td>\n",
       "      <td>0.565527</td>\n",
       "    </tr>\n",
       "    <tr>\n",
       "      <th>31</th>\n",
       "      <td>0.990299</td>\n",
       "      <td>0.517187</td>\n",
       "    </tr>\n",
       "    <tr>\n",
       "      <th>32</th>\n",
       "      <td>0.990542</td>\n",
       "      <td>0.519922</td>\n",
       "    </tr>\n",
       "    <tr>\n",
       "      <th>33</th>\n",
       "      <td>0.994830</td>\n",
       "      <td>0.665625</td>\n",
       "    </tr>\n",
       "    <tr>\n",
       "      <th>34</th>\n",
       "      <td>0.995378</td>\n",
       "      <td>0.621094</td>\n",
       "    </tr>\n",
       "    <tr>\n",
       "      <th>35</th>\n",
       "      <td>0.995844</td>\n",
       "      <td>0.484766</td>\n",
       "    </tr>\n",
       "    <tr>\n",
       "      <th>36</th>\n",
       "      <td>0.996610</td>\n",
       "      <td>0.192383</td>\n",
       "    </tr>\n",
       "  </tbody>\n",
       "</table>\n",
       "</div>"
      ],
      "text/plain": [
       "    compression  val_top_1\n",
       "0      0.061583   0.891504\n",
       "1      0.113687   0.892187\n",
       "2      0.166196   0.891992\n",
       "3      0.385670   0.893750\n",
       "4      0.469130   0.888574\n",
       "5      0.541411   0.895801\n",
       "6      0.541629   0.894824\n",
       "7      0.632764   0.890918\n",
       "8      0.668037   0.895020\n",
       "9      0.755415   0.894238\n",
       "10     0.854569   0.891113\n",
       "11     0.922640   0.883887\n",
       "12     0.939327   0.881934\n",
       "13     0.940720   0.879590\n",
       "14     0.943039   0.878613\n",
       "15     0.958943   0.875098\n",
       "16     0.960813   0.867285\n",
       "17     0.963858   0.864648\n",
       "18     0.965312   0.870215\n",
       "19     0.967878   0.863965\n",
       "20     0.970951   0.802734\n",
       "21     0.972982   0.798926\n",
       "22     0.975519   0.847070\n",
       "23     0.976776   0.843262\n",
       "24     0.979029   0.848437\n",
       "25     0.980429   0.843066\n",
       "26     0.980944   0.841113\n",
       "27     0.985134   0.807617\n",
       "28     0.987708   0.673633\n",
       "29     0.989928   0.551465\n",
       "30     0.990101   0.565527\n",
       "31     0.990299   0.517187\n",
       "32     0.990542   0.519922\n",
       "33     0.994830   0.665625\n",
       "34     0.995378   0.621094\n",
       "35     0.995844   0.484766\n",
       "36     0.996610   0.192383"
      ]
     },
     "execution_count": 51,
     "metadata": {},
     "output_type": "execute_result"
    }
   ],
   "source": [
    "df_bez_mean_best"
   ]
  },
  {
   "cell_type": "code",
   "execution_count": 52,
   "metadata": {},
   "outputs": [],
   "source": [
    "manual_compressions=[0.061583, 0.113687, 0.166196, 0.38567, 0.46913, 0.541411, 0.541629, 0.632764, 0.668037, \n",
    "                     0.755415, 0.854569, 0.92264, 0.939327, 0.94072, 0.943039, 0.958943, 0.960813, 0.963858, \n",
    "                     0.965312, 0.967878, 0.970951, 0.972982, 0.975519, 0.976776, 0.979029, 0.980429, 0.980944, \n",
    "                     0.985134, 0.987708, 0.99483, 0.995378, 0.995844, 0.99661]\n",
    "\n",
    "manual_val_top_1=[0.891504, 0.892187, 0.891992, 0.89375, 0.888574, 0.895801, 0.894824, 0.890918, 0.89502, 0.894238, \n",
    "                  0.891113, 0.883887, 0.881934, 0.87959, 0.878613, 0.875098, 0.867285, 0.864648, 0.870215, 0.863965,\n",
    "                  0.802734, 0.798926, 0.84707, 0.843262, 0.848437, 0.843066, 0.841113, 0.807617, 0.673633, 0.665625,\n",
    "                  0.621094, 0.484766, 0.192383]\n",
    "\n",
    "\n",
    "df_bez_mean_best_manual=pd.DataFrame({\"compression\":manual_compressions,\n",
    "                                     \"val_top_1\":manual_val_top_1})\n",
    "\n",
    "# df_bez_mean_best_manual.head()\n",
    "\n"
   ]
  },
  {
   "cell_type": "code",
   "execution_count": 53,
   "metadata": {},
   "outputs": [],
   "source": [
    "### BEzier on actual values\n",
    "\n",
    "\n",
    "\n",
    "# More involved method of getting better values\n",
    "\n",
    "# Compression more than song han and accuracy better than the same\n",
    "\n",
    "\n",
    "\n",
    "\n",
    "\n",
    "# df_snhn=pd.read_csv(\"results_sheet/song_hn.csv\")\n",
    "# df_snhn=df_snhn.sort_values(by=[\"compression\"])\n",
    "\n",
    "\n",
    "df_bezier_on_actl_Wts_new=pd.read_csv(\"results_sheet/04bezier_on_actl_Wts17Jan2021.csv\")\n",
    "df_bezier_on_actl_Wts_newer=pd.read_csv(\"results_sheet/04bezier_on_actl_Wts18Jan2021.csv\")\n",
    "\n",
    "df_bezier_on_actl_Wts=pd.read_csv(\"results_sheet/04bezier_on_actl_Wts04Jan2021.csv\")\n",
    "df_bezier_on_actl_Wts=pd.concat([df_bezier_on_actl_Wts,df_bezier_on_actl_Wts_new,df_bezier_on_actl_Wts_newer])\n",
    "\n",
    "\n",
    "df_bezier_on_actl_Wts=df_bezier_on_actl_Wts.sort_values(by=[\"upscale\",\"epoch_number\"],ascending=True)\n",
    "\n",
    "\n",
    "df_bezier_on_actl_Wts=df_bezier_on_actl_Wts[[\"compression\",\"val_top_1\"]]\n",
    "\n",
    "df_bezier_on_actl_Wts_songed=pd.read_csv(\"results_sheet/04song_hn_onBezActls.csv\")\n",
    "df_bezier_on_actl_Wts_songed=df_bezier_on_actl_Wts_songed[[\"compression\",\"val_top_1\"]]\n",
    "df_bezier_on_actl_Wts=pd.concat([df_bezier_on_actl_Wts,df_bezier_on_actl_Wts_songed])\n",
    "\n",
    "\n",
    "# df_bezier_on_actl_Wts=df_bezier_on_actl_Wts.sort_values(by=[\"upscale\",\"epoch_number\"],ascending=True)\n",
    "\n",
    "\n",
    "\n",
    "\n",
    "\n",
    "snhnComp=list(df_snhn.compression)\n",
    "snhnAcc=list(df_snhn.top_1)\n",
    "\n",
    "\n",
    "best_compression_acc={}\n",
    "# best_compression_acc[\"range_params\"]=[]\n",
    "best_compression_acc[\"compression\"]=[]\n",
    "best_compression_acc[\"val_top_1\"]=[]\n",
    "# best_compression_acc[\"upscale\"]=[]\n",
    "# best_compression_acc[\"upscale_method\"]=[]\n",
    "# best_compression_acc[\"epoch_number\"]=[]\n",
    "\n",
    "for i in range(len(snhnComp)-1):\n",
    "#     print(snhnComp[i],snhnComp[i+1])\n",
    "    acc_snhn=snhnAcc[i]\n",
    "    # find all data in bezierOnMean whose compression lies between given compression\n",
    "    df_bezier_on_actl_Wts_in_between=df_bezier_on_actl_Wts[(df_bezier_on_actl_Wts[\"compression\"]>snhnComp[i])&(df_bezier_on_actl_Wts[\"compression\"]<=snhnComp[i+1])]\n",
    "    # in this range, save the one with the maximum accuracy\n",
    "    if df_bezier_on_actl_Wts_in_between.shape[0]>=1:\n",
    "        # data exists, lets find the best\n",
    "        df_bezier_on_actl_Wts_in_between=df_bezier_on_actl_Wts_in_between.sort_values(by=[\"val_top_1\"],ascending=True)\n",
    "        bez_acc=list(df_bezier_on_actl_Wts_in_between[\"val_top_1\"])[-1]\n",
    "        if bez_acc>=acc_snhn:\n",
    "#             best_compression_acc[\"range_params\"].append(list(df_bezier_on_actl_Wts_in_between[\"range_params\"])[-1])\n",
    "            best_compression_acc[\"compression\"].append(list(df_bezier_on_actl_Wts_in_between[\"compression\"])[-1])\n",
    "            best_compression_acc[\"val_top_1\"].append(list(df_bezier_on_actl_Wts_in_between[\"val_top_1\"])[-1])\n",
    "#             best_compression_acc[\"upscale\"].append(list(df_bezier_on_actl_Wts_in_between[\"upscale\"])[-1])\n",
    "#             best_compression_acc[\"epoch_number\"].append(list(df_bezier_on_actl_Wts_in_between[\"epoch_number\"])[-1])\n",
    "#             best_compression_acc[\"upscale_method\"].append(list(df_bezier_on_actl_Wts_in_between[\"upscale_method\"])[-1])\n",
    "            \n",
    "            \n",
    "df_bezier_on_actl_Wts_in_between_best=pd.DataFrame(best_compression_acc)\n",
    "# print(df_bezier_on_actl_Wts_in_between_best)            \n",
    "\n",
    "# ### Manual discard of values\n",
    "manual_compressions=[0.108534, 0.14459, 0.17153, 0.342438, 0.405129, 0.503065, 0.595645, 0.632471, 0.65528, \n",
    "                     0.786635, 0.828289, 0.926422, 0.938578, 0.941276, 0.943776, 0.94827, 0.954635, 0.956126, \n",
    "                     0.960698, 0.964364, 0.965398, 0.967763, 0.970679, 0.971132, 0.974082, 0.977756, 0.978102, \n",
    "                     0.979758, 0.980924, 0.982538, 0.989512, 0.989858, 0.989957, 0.990493, 0.990604, 0.993829, \n",
    "                     0.993912, 0.994488, 0.995807, 0.995864]\n",
    "\n",
    "manual_val_top_1=[0.889551, 0.89043, 0.890918, 0.891992, 0.891211, 0.892969, 0.892676, 0.894727, 0.894141, \n",
    "                  0.895215, 0.892969, 0.885059, 0.876562, 0.876562, 0.87793, 0.87041, 0.870801, 0.869336, \n",
    "                  0.869141, 0.872168, 0.872754, 0.873828, 0.875293, 0.874219, 0.874609, 0.861523, 0.861719, \n",
    "                  0.858594, 0.85625, 0.845703, 0.702148, 0.693652, 0.684668, 0.685156, 0.698535, 0.510645, \n",
    "                  0.499805, 0.455859, 0.537598, 0.446387]\n",
    "\n",
    "\n",
    "df_bez_actual_best_manual=pd.DataFrame({\"compression\":manual_compressions,\n",
    "                                     \"val_top_1\":manual_val_top_1})\n",
    "\n"
   ]
  },
  {
   "cell_type": "code",
   "execution_count": 54,
   "metadata": {},
   "outputs": [],
   "source": [
    "# df_bezier_on_actl_Wts_in_between_best"
   ]
  },
  {
   "cell_type": "code",
   "execution_count": 55,
   "metadata": {},
   "outputs": [],
   "source": [
    "# these are the four files\n",
    "# df_snhn\n",
    "# df_mean_wt\n",
    "# df_bez_mean_best_manual\n",
    "# df_bez_actual_best_manual\n",
    "\n",
    "\n",
    "# now filter songhan to match the manual files\n",
    "min_compression=max(min(df_bez_mean_best_manual[\"compression\"]),min(df_bez_actual_best_manual[\"compression\"]),min(df_mean_wt[\"compression\"]))\n",
    "max_compression=min(max(df_bez_mean_best_manual[\"compression\"]),max(df_bez_actual_best_manual[\"compression\"]),max(df_mean_wt[\"compression\"]))\n",
    "# max_compression=0.995\n",
    "\n",
    "df_snhn_filtered=df_snhn[(df_snhn[\"compression\"]>=min_compression)&(df_snhn[\"compression\"]<=max_compression)]\n"
   ]
  },
  {
   "cell_type": "code",
   "execution_count": 56,
   "metadata": {},
   "outputs": [
    {
     "data": {
      "text/html": [
       "<div>\n",
       "<style scoped>\n",
       "    .dataframe tbody tr th:only-of-type {\n",
       "        vertical-align: middle;\n",
       "    }\n",
       "\n",
       "    .dataframe tbody tr th {\n",
       "        vertical-align: top;\n",
       "    }\n",
       "\n",
       "    .dataframe thead th {\n",
       "        text-align: right;\n",
       "    }\n",
       "</style>\n",
       "<table border=\"1\" class=\"dataframe\">\n",
       "  <thead>\n",
       "    <tr style=\"text-align: right;\">\n",
       "      <th></th>\n",
       "      <th>compression</th>\n",
       "      <th>top_1</th>\n",
       "    </tr>\n",
       "  </thead>\n",
       "  <tbody>\n",
       "    <tr>\n",
       "      <th>1</th>\n",
       "      <td>0.110376</td>\n",
       "      <td>0.880957</td>\n",
       "    </tr>\n",
       "    <tr>\n",
       "      <th>2</th>\n",
       "      <td>0.147058</td>\n",
       "      <td>0.861621</td>\n",
       "    </tr>\n",
       "    <tr>\n",
       "      <th>3</th>\n",
       "      <td>0.292117</td>\n",
       "      <td>0.871094</td>\n",
       "    </tr>\n",
       "    <tr>\n",
       "      <th>4</th>\n",
       "      <td>0.400215</td>\n",
       "      <td>0.871582</td>\n",
       "    </tr>\n",
       "    <tr>\n",
       "      <th>5</th>\n",
       "      <td>0.471433</td>\n",
       "      <td>0.875000</td>\n",
       "    </tr>\n",
       "    <tr>\n",
       "      <th>6</th>\n",
       "      <td>0.541600</td>\n",
       "      <td>0.879883</td>\n",
       "    </tr>\n",
       "    <tr>\n",
       "      <th>7</th>\n",
       "      <td>0.609729</td>\n",
       "      <td>0.877930</td>\n",
       "    </tr>\n",
       "    <tr>\n",
       "      <th>8</th>\n",
       "      <td>0.642984</td>\n",
       "      <td>0.872461</td>\n",
       "    </tr>\n",
       "    <tr>\n",
       "      <th>9</th>\n",
       "      <td>0.737723</td>\n",
       "      <td>0.876758</td>\n",
       "    </tr>\n",
       "    <tr>\n",
       "      <th>10</th>\n",
       "      <td>0.823288</td>\n",
       "      <td>0.872363</td>\n",
       "    </tr>\n",
       "    <tr>\n",
       "      <th>11</th>\n",
       "      <td>0.917499</td>\n",
       "      <td>0.870605</td>\n",
       "    </tr>\n",
       "    <tr>\n",
       "      <th>12</th>\n",
       "      <td>0.937824</td>\n",
       "      <td>0.868945</td>\n",
       "    </tr>\n",
       "    <tr>\n",
       "      <th>13</th>\n",
       "      <td>0.939476</td>\n",
       "      <td>0.865234</td>\n",
       "    </tr>\n",
       "    <tr>\n",
       "      <th>14</th>\n",
       "      <td>0.941890</td>\n",
       "      <td>0.865234</td>\n",
       "    </tr>\n",
       "    <tr>\n",
       "      <th>15</th>\n",
       "      <td>0.947356</td>\n",
       "      <td>0.862988</td>\n",
       "    </tr>\n",
       "    <tr>\n",
       "      <th>16</th>\n",
       "      <td>0.952241</td>\n",
       "      <td>0.861621</td>\n",
       "    </tr>\n",
       "    <tr>\n",
       "      <th>17</th>\n",
       "      <td>0.955961</td>\n",
       "      <td>0.860645</td>\n",
       "    </tr>\n",
       "    <tr>\n",
       "      <th>18</th>\n",
       "      <td>0.958972</td>\n",
       "      <td>0.860156</td>\n",
       "    </tr>\n",
       "    <tr>\n",
       "      <th>19</th>\n",
       "      <td>0.961905</td>\n",
       "      <td>0.843555</td>\n",
       "    </tr>\n",
       "    <tr>\n",
       "      <th>20</th>\n",
       "      <td>0.964393</td>\n",
       "      <td>0.839453</td>\n",
       "    </tr>\n",
       "    <tr>\n",
       "      <th>21</th>\n",
       "      <td>0.966696</td>\n",
       "      <td>0.839551</td>\n",
       "    </tr>\n",
       "    <tr>\n",
       "      <th>22</th>\n",
       "      <td>0.968891</td>\n",
       "      <td>0.837793</td>\n",
       "    </tr>\n",
       "    <tr>\n",
       "      <th>23</th>\n",
       "      <td>0.970922</td>\n",
       "      <td>0.770020</td>\n",
       "    </tr>\n",
       "    <tr>\n",
       "      <th>24</th>\n",
       "      <td>0.972809</td>\n",
       "      <td>0.765332</td>\n",
       "    </tr>\n",
       "    <tr>\n",
       "      <th>25</th>\n",
       "      <td>0.974683</td>\n",
       "      <td>0.763672</td>\n",
       "    </tr>\n",
       "    <tr>\n",
       "      <th>26</th>\n",
       "      <td>0.976314</td>\n",
       "      <td>0.760742</td>\n",
       "    </tr>\n",
       "    <tr>\n",
       "      <th>27</th>\n",
       "      <td>0.977867</td>\n",
       "      <td>0.759961</td>\n",
       "    </tr>\n",
       "    <tr>\n",
       "      <th>28</th>\n",
       "      <td>0.979354</td>\n",
       "      <td>0.756738</td>\n",
       "    </tr>\n",
       "    <tr>\n",
       "      <th>29</th>\n",
       "      <td>0.980672</td>\n",
       "      <td>0.756934</td>\n",
       "    </tr>\n",
       "    <tr>\n",
       "      <th>30</th>\n",
       "      <td>0.981851</td>\n",
       "      <td>0.755469</td>\n",
       "    </tr>\n",
       "    <tr>\n",
       "      <th>31</th>\n",
       "      <td>0.986757</td>\n",
       "      <td>0.606934</td>\n",
       "    </tr>\n",
       "    <tr>\n",
       "      <th>32</th>\n",
       "      <td>0.989879</td>\n",
       "      <td>0.503223</td>\n",
       "    </tr>\n",
       "    <tr>\n",
       "      <th>33</th>\n",
       "      <td>0.990068</td>\n",
       "      <td>0.502930</td>\n",
       "    </tr>\n",
       "    <tr>\n",
       "      <th>34</th>\n",
       "      <td>0.990270</td>\n",
       "      <td>0.499121</td>\n",
       "    </tr>\n",
       "    <tr>\n",
       "      <th>35</th>\n",
       "      <td>0.990501</td>\n",
       "      <td>0.499512</td>\n",
       "    </tr>\n",
       "    <tr>\n",
       "      <th>36</th>\n",
       "      <td>0.993801</td>\n",
       "      <td>0.434863</td>\n",
       "    </tr>\n",
       "    <tr>\n",
       "      <th>37</th>\n",
       "      <td>0.993858</td>\n",
       "      <td>0.445898</td>\n",
       "    </tr>\n",
       "    <tr>\n",
       "      <th>38</th>\n",
       "      <td>0.993965</td>\n",
       "      <td>0.447266</td>\n",
       "    </tr>\n",
       "    <tr>\n",
       "      <th>39</th>\n",
       "      <td>0.994048</td>\n",
       "      <td>0.447168</td>\n",
       "    </tr>\n",
       "    <tr>\n",
       "      <th>40</th>\n",
       "      <td>0.994142</td>\n",
       "      <td>0.447754</td>\n",
       "    </tr>\n",
       "    <tr>\n",
       "      <th>41</th>\n",
       "      <td>0.994307</td>\n",
       "      <td>0.438574</td>\n",
       "    </tr>\n",
       "    <tr>\n",
       "      <th>42</th>\n",
       "      <td>0.995102</td>\n",
       "      <td>0.282910</td>\n",
       "    </tr>\n",
       "    <tr>\n",
       "      <th>43</th>\n",
       "      <td>0.995819</td>\n",
       "      <td>0.187500</td>\n",
       "    </tr>\n",
       "  </tbody>\n",
       "</table>\n",
       "</div>"
      ],
      "text/plain": [
       "    compression     top_1\n",
       "1      0.110376  0.880957\n",
       "2      0.147058  0.861621\n",
       "3      0.292117  0.871094\n",
       "4      0.400215  0.871582\n",
       "5      0.471433  0.875000\n",
       "6      0.541600  0.879883\n",
       "7      0.609729  0.877930\n",
       "8      0.642984  0.872461\n",
       "9      0.737723  0.876758\n",
       "10     0.823288  0.872363\n",
       "11     0.917499  0.870605\n",
       "12     0.937824  0.868945\n",
       "13     0.939476  0.865234\n",
       "14     0.941890  0.865234\n",
       "15     0.947356  0.862988\n",
       "16     0.952241  0.861621\n",
       "17     0.955961  0.860645\n",
       "18     0.958972  0.860156\n",
       "19     0.961905  0.843555\n",
       "20     0.964393  0.839453\n",
       "21     0.966696  0.839551\n",
       "22     0.968891  0.837793\n",
       "23     0.970922  0.770020\n",
       "24     0.972809  0.765332\n",
       "25     0.974683  0.763672\n",
       "26     0.976314  0.760742\n",
       "27     0.977867  0.759961\n",
       "28     0.979354  0.756738\n",
       "29     0.980672  0.756934\n",
       "30     0.981851  0.755469\n",
       "31     0.986757  0.606934\n",
       "32     0.989879  0.503223\n",
       "33     0.990068  0.502930\n",
       "34     0.990270  0.499121\n",
       "35     0.990501  0.499512\n",
       "36     0.993801  0.434863\n",
       "37     0.993858  0.445898\n",
       "38     0.993965  0.447266\n",
       "39     0.994048  0.447168\n",
       "40     0.994142  0.447754\n",
       "41     0.994307  0.438574\n",
       "42     0.995102  0.282910\n",
       "43     0.995819  0.187500"
      ]
     },
     "execution_count": 56,
     "metadata": {},
     "output_type": "execute_result"
    }
   ],
   "source": [
    "df_snhn_filtered"
   ]
  },
  {
   "cell_type": "code",
   "execution_count": 63,
   "metadata": {},
   "outputs": [
    {
     "data": {
      "application/vnd.plotly.v1+json": {
       "config": {
        "plotlyServerURL": "https://plot.ly"
       },
       "data": [
        {
         "mode": "lines+markers",
         "name": "SongHan",
         "type": "scatter",
         "x": [
          0.110376,
          0.147058,
          0.292117,
          0.400215,
          0.471433,
          0.5416,
          0.609729,
          0.642984,
          0.737723,
          0.823288,
          0.917499,
          0.937824,
          0.939476,
          0.94189,
          0.947356,
          0.952241,
          0.955961,
          0.958972,
          0.961905,
          0.964393,
          0.966696,
          0.968891,
          0.970922,
          0.972809,
          0.974683,
          0.976314,
          0.977867,
          0.979354,
          0.980672,
          0.981851,
          0.986757,
          0.989879,
          0.990068,
          0.99027,
          0.990501,
          0.993801,
          0.993858,
          0.993965,
          0.994048,
          0.994142,
          0.994307,
          0.995102,
          0.995819
         ],
         "y": [
          0.880957,
          0.861621,
          0.871094,
          0.871582,
          0.875,
          0.879883,
          0.87793,
          0.872461,
          0.876758,
          0.872363,
          0.870605,
          0.868945,
          0.865234,
          0.865234,
          0.862988,
          0.861621,
          0.860645,
          0.860156,
          0.843555,
          0.839453,
          0.839551,
          0.837793,
          0.77002,
          0.765332,
          0.763672,
          0.760742,
          0.759961,
          0.756738,
          0.756934,
          0.755469,
          0.606934,
          0.503223,
          0.50293,
          0.499121,
          0.499512,
          0.434863,
          0.445898,
          0.447266,
          0.447168,
          0.447754,
          0.438574,
          0.28291,
          0.1875
         ]
        },
        {
         "mode": "lines+markers",
         "name": "ThresholdOnMean",
         "type": "scatter",
         "x": [
          0.064668,
          0.127392,
          0.190491,
          0.253656,
          0.379129,
          0.502529,
          0.562757,
          0.678426,
          0.784278,
          0.871883,
          0.923682,
          0.932432,
          0.940188,
          0.947006,
          0.952929,
          0.955075,
          0.956155,
          0.958202,
          0.962193,
          0.970786,
          0.972076,
          0.976866,
          0.979371,
          0.983506,
          0.985216,
          0.987861,
          0.991444,
          0.99385,
          0.997722
         ],
         "y": [
          0.877344,
          0.87998,
          0.879883,
          0.880762,
          0.880859,
          0.87998,
          0.878809,
          0.877441,
          0.875781,
          0.87207,
          0.865723,
          0.866797,
          0.868359,
          0.866895,
          0.866406,
          0.864355,
          0.864355,
          0.861719,
          0.864355,
          0.860547,
          0.855469,
          0.848926,
          0.841797,
          0.841309,
          0.835645,
          0.80625,
          0.687109,
          0.574707,
          0.175098
         ]
        },
        {
         "mode": "lines+markers",
         "name": "BezierMean",
         "type": "scatter",
         "x": [
          0.061583,
          0.113687,
          0.166196,
          0.38567,
          0.46913,
          0.541411,
          0.541629,
          0.632764,
          0.668037,
          0.755415,
          0.854569,
          0.92264,
          0.939327,
          0.94072,
          0.943039,
          0.958943,
          0.960813,
          0.963858,
          0.965312,
          0.967878,
          0.970951,
          0.972982,
          0.975519,
          0.976776,
          0.979029,
          0.980429,
          0.980944,
          0.985134,
          0.987708,
          0.99483,
          0.995378,
          0.995844,
          0.99661
         ],
         "y": [
          0.891504,
          0.892187,
          0.891992,
          0.89375,
          0.888574,
          0.895801,
          0.894824,
          0.890918,
          0.89502,
          0.894238,
          0.891113,
          0.883887,
          0.881934,
          0.87959,
          0.878613,
          0.875098,
          0.867285,
          0.864648,
          0.870215,
          0.863965,
          0.802734,
          0.798926,
          0.84707,
          0.843262,
          0.848437,
          0.843066,
          0.841113,
          0.807617,
          0.673633,
          0.665625,
          0.621094,
          0.484766,
          0.192383
         ]
        },
        {
         "mode": "lines+markers",
         "name": "BezierActual",
         "type": "scatter",
         "x": [
          0.108534,
          0.14459,
          0.17153,
          0.342438,
          0.405129,
          0.503065,
          0.595645,
          0.632471,
          0.65528,
          0.786635,
          0.828289,
          0.926422,
          0.938578,
          0.941276,
          0.943776,
          0.94827,
          0.954635,
          0.956126,
          0.960698,
          0.964364,
          0.965398,
          0.967763,
          0.970679,
          0.971132,
          0.974082,
          0.977756,
          0.978102,
          0.979758,
          0.980924,
          0.982538,
          0.989512,
          0.989858,
          0.989957,
          0.990493,
          0.990604,
          0.993829,
          0.993912,
          0.994488,
          0.995807,
          0.995864
         ],
         "y": [
          0.889551,
          0.89043,
          0.890918,
          0.891992,
          0.891211,
          0.892969,
          0.892676,
          0.894727,
          0.894141,
          0.895215,
          0.892969,
          0.885059,
          0.876562,
          0.876562,
          0.87793,
          0.87041,
          0.870801,
          0.869336,
          0.869141,
          0.872168,
          0.872754,
          0.873828,
          0.875293,
          0.874219,
          0.874609,
          0.861523,
          0.861719,
          0.858594,
          0.85625,
          0.845703,
          0.702148,
          0.693652,
          0.684668,
          0.685156,
          0.698535,
          0.510645,
          0.499805,
          0.455859,
          0.537598,
          0.446387
         ]
        }
       ],
       "layout": {
        "template": {
         "data": {
          "bar": [
           {
            "error_x": {
             "color": "#2a3f5f"
            },
            "error_y": {
             "color": "#2a3f5f"
            },
            "marker": {
             "line": {
              "color": "#E5ECF6",
              "width": 0.5
             },
             "pattern": {
              "fillmode": "overlay",
              "size": 10,
              "solidity": 0.2
             }
            },
            "type": "bar"
           }
          ],
          "barpolar": [
           {
            "marker": {
             "line": {
              "color": "#E5ECF6",
              "width": 0.5
             },
             "pattern": {
              "fillmode": "overlay",
              "size": 10,
              "solidity": 0.2
             }
            },
            "type": "barpolar"
           }
          ],
          "carpet": [
           {
            "aaxis": {
             "endlinecolor": "#2a3f5f",
             "gridcolor": "white",
             "linecolor": "white",
             "minorgridcolor": "white",
             "startlinecolor": "#2a3f5f"
            },
            "baxis": {
             "endlinecolor": "#2a3f5f",
             "gridcolor": "white",
             "linecolor": "white",
             "minorgridcolor": "white",
             "startlinecolor": "#2a3f5f"
            },
            "type": "carpet"
           }
          ],
          "choropleth": [
           {
            "colorbar": {
             "outlinewidth": 0,
             "ticks": ""
            },
            "type": "choropleth"
           }
          ],
          "contour": [
           {
            "colorbar": {
             "outlinewidth": 0,
             "ticks": ""
            },
            "colorscale": [
             [
              0,
              "#0d0887"
             ],
             [
              0.1111111111111111,
              "#46039f"
             ],
             [
              0.2222222222222222,
              "#7201a8"
             ],
             [
              0.3333333333333333,
              "#9c179e"
             ],
             [
              0.4444444444444444,
              "#bd3786"
             ],
             [
              0.5555555555555556,
              "#d8576b"
             ],
             [
              0.6666666666666666,
              "#ed7953"
             ],
             [
              0.7777777777777778,
              "#fb9f3a"
             ],
             [
              0.8888888888888888,
              "#fdca26"
             ],
             [
              1,
              "#f0f921"
             ]
            ],
            "type": "contour"
           }
          ],
          "contourcarpet": [
           {
            "colorbar": {
             "outlinewidth": 0,
             "ticks": ""
            },
            "type": "contourcarpet"
           }
          ],
          "heatmap": [
           {
            "colorbar": {
             "outlinewidth": 0,
             "ticks": ""
            },
            "colorscale": [
             [
              0,
              "#0d0887"
             ],
             [
              0.1111111111111111,
              "#46039f"
             ],
             [
              0.2222222222222222,
              "#7201a8"
             ],
             [
              0.3333333333333333,
              "#9c179e"
             ],
             [
              0.4444444444444444,
              "#bd3786"
             ],
             [
              0.5555555555555556,
              "#d8576b"
             ],
             [
              0.6666666666666666,
              "#ed7953"
             ],
             [
              0.7777777777777778,
              "#fb9f3a"
             ],
             [
              0.8888888888888888,
              "#fdca26"
             ],
             [
              1,
              "#f0f921"
             ]
            ],
            "type": "heatmap"
           }
          ],
          "heatmapgl": [
           {
            "colorbar": {
             "outlinewidth": 0,
             "ticks": ""
            },
            "colorscale": [
             [
              0,
              "#0d0887"
             ],
             [
              0.1111111111111111,
              "#46039f"
             ],
             [
              0.2222222222222222,
              "#7201a8"
             ],
             [
              0.3333333333333333,
              "#9c179e"
             ],
             [
              0.4444444444444444,
              "#bd3786"
             ],
             [
              0.5555555555555556,
              "#d8576b"
             ],
             [
              0.6666666666666666,
              "#ed7953"
             ],
             [
              0.7777777777777778,
              "#fb9f3a"
             ],
             [
              0.8888888888888888,
              "#fdca26"
             ],
             [
              1,
              "#f0f921"
             ]
            ],
            "type": "heatmapgl"
           }
          ],
          "histogram": [
           {
            "marker": {
             "pattern": {
              "fillmode": "overlay",
              "size": 10,
              "solidity": 0.2
             }
            },
            "type": "histogram"
           }
          ],
          "histogram2d": [
           {
            "colorbar": {
             "outlinewidth": 0,
             "ticks": ""
            },
            "colorscale": [
             [
              0,
              "#0d0887"
             ],
             [
              0.1111111111111111,
              "#46039f"
             ],
             [
              0.2222222222222222,
              "#7201a8"
             ],
             [
              0.3333333333333333,
              "#9c179e"
             ],
             [
              0.4444444444444444,
              "#bd3786"
             ],
             [
              0.5555555555555556,
              "#d8576b"
             ],
             [
              0.6666666666666666,
              "#ed7953"
             ],
             [
              0.7777777777777778,
              "#fb9f3a"
             ],
             [
              0.8888888888888888,
              "#fdca26"
             ],
             [
              1,
              "#f0f921"
             ]
            ],
            "type": "histogram2d"
           }
          ],
          "histogram2dcontour": [
           {
            "colorbar": {
             "outlinewidth": 0,
             "ticks": ""
            },
            "colorscale": [
             [
              0,
              "#0d0887"
             ],
             [
              0.1111111111111111,
              "#46039f"
             ],
             [
              0.2222222222222222,
              "#7201a8"
             ],
             [
              0.3333333333333333,
              "#9c179e"
             ],
             [
              0.4444444444444444,
              "#bd3786"
             ],
             [
              0.5555555555555556,
              "#d8576b"
             ],
             [
              0.6666666666666666,
              "#ed7953"
             ],
             [
              0.7777777777777778,
              "#fb9f3a"
             ],
             [
              0.8888888888888888,
              "#fdca26"
             ],
             [
              1,
              "#f0f921"
             ]
            ],
            "type": "histogram2dcontour"
           }
          ],
          "mesh3d": [
           {
            "colorbar": {
             "outlinewidth": 0,
             "ticks": ""
            },
            "type": "mesh3d"
           }
          ],
          "parcoords": [
           {
            "line": {
             "colorbar": {
              "outlinewidth": 0,
              "ticks": ""
             }
            },
            "type": "parcoords"
           }
          ],
          "pie": [
           {
            "automargin": true,
            "type": "pie"
           }
          ],
          "scatter": [
           {
            "marker": {
             "colorbar": {
              "outlinewidth": 0,
              "ticks": ""
             }
            },
            "type": "scatter"
           }
          ],
          "scatter3d": [
           {
            "line": {
             "colorbar": {
              "outlinewidth": 0,
              "ticks": ""
             }
            },
            "marker": {
             "colorbar": {
              "outlinewidth": 0,
              "ticks": ""
             }
            },
            "type": "scatter3d"
           }
          ],
          "scattercarpet": [
           {
            "marker": {
             "colorbar": {
              "outlinewidth": 0,
              "ticks": ""
             }
            },
            "type": "scattercarpet"
           }
          ],
          "scattergeo": [
           {
            "marker": {
             "colorbar": {
              "outlinewidth": 0,
              "ticks": ""
             }
            },
            "type": "scattergeo"
           }
          ],
          "scattergl": [
           {
            "marker": {
             "colorbar": {
              "outlinewidth": 0,
              "ticks": ""
             }
            },
            "type": "scattergl"
           }
          ],
          "scattermapbox": [
           {
            "marker": {
             "colorbar": {
              "outlinewidth": 0,
              "ticks": ""
             }
            },
            "type": "scattermapbox"
           }
          ],
          "scatterpolar": [
           {
            "marker": {
             "colorbar": {
              "outlinewidth": 0,
              "ticks": ""
             }
            },
            "type": "scatterpolar"
           }
          ],
          "scatterpolargl": [
           {
            "marker": {
             "colorbar": {
              "outlinewidth": 0,
              "ticks": ""
             }
            },
            "type": "scatterpolargl"
           }
          ],
          "scatterternary": [
           {
            "marker": {
             "colorbar": {
              "outlinewidth": 0,
              "ticks": ""
             }
            },
            "type": "scatterternary"
           }
          ],
          "surface": [
           {
            "colorbar": {
             "outlinewidth": 0,
             "ticks": ""
            },
            "colorscale": [
             [
              0,
              "#0d0887"
             ],
             [
              0.1111111111111111,
              "#46039f"
             ],
             [
              0.2222222222222222,
              "#7201a8"
             ],
             [
              0.3333333333333333,
              "#9c179e"
             ],
             [
              0.4444444444444444,
              "#bd3786"
             ],
             [
              0.5555555555555556,
              "#d8576b"
             ],
             [
              0.6666666666666666,
              "#ed7953"
             ],
             [
              0.7777777777777778,
              "#fb9f3a"
             ],
             [
              0.8888888888888888,
              "#fdca26"
             ],
             [
              1,
              "#f0f921"
             ]
            ],
            "type": "surface"
           }
          ],
          "table": [
           {
            "cells": {
             "fill": {
              "color": "#EBF0F8"
             },
             "line": {
              "color": "white"
             }
            },
            "header": {
             "fill": {
              "color": "#C8D4E3"
             },
             "line": {
              "color": "white"
             }
            },
            "type": "table"
           }
          ]
         },
         "layout": {
          "annotationdefaults": {
           "arrowcolor": "#2a3f5f",
           "arrowhead": 0,
           "arrowwidth": 1
          },
          "autotypenumbers": "strict",
          "coloraxis": {
           "colorbar": {
            "outlinewidth": 0,
            "ticks": ""
           }
          },
          "colorscale": {
           "diverging": [
            [
             0,
             "#8e0152"
            ],
            [
             0.1,
             "#c51b7d"
            ],
            [
             0.2,
             "#de77ae"
            ],
            [
             0.3,
             "#f1b6da"
            ],
            [
             0.4,
             "#fde0ef"
            ],
            [
             0.5,
             "#f7f7f7"
            ],
            [
             0.6,
             "#e6f5d0"
            ],
            [
             0.7,
             "#b8e186"
            ],
            [
             0.8,
             "#7fbc41"
            ],
            [
             0.9,
             "#4d9221"
            ],
            [
             1,
             "#276419"
            ]
           ],
           "sequential": [
            [
             0,
             "#0d0887"
            ],
            [
             0.1111111111111111,
             "#46039f"
            ],
            [
             0.2222222222222222,
             "#7201a8"
            ],
            [
             0.3333333333333333,
             "#9c179e"
            ],
            [
             0.4444444444444444,
             "#bd3786"
            ],
            [
             0.5555555555555556,
             "#d8576b"
            ],
            [
             0.6666666666666666,
             "#ed7953"
            ],
            [
             0.7777777777777778,
             "#fb9f3a"
            ],
            [
             0.8888888888888888,
             "#fdca26"
            ],
            [
             1,
             "#f0f921"
            ]
           ],
           "sequentialminus": [
            [
             0,
             "#0d0887"
            ],
            [
             0.1111111111111111,
             "#46039f"
            ],
            [
             0.2222222222222222,
             "#7201a8"
            ],
            [
             0.3333333333333333,
             "#9c179e"
            ],
            [
             0.4444444444444444,
             "#bd3786"
            ],
            [
             0.5555555555555556,
             "#d8576b"
            ],
            [
             0.6666666666666666,
             "#ed7953"
            ],
            [
             0.7777777777777778,
             "#fb9f3a"
            ],
            [
             0.8888888888888888,
             "#fdca26"
            ],
            [
             1,
             "#f0f921"
            ]
           ]
          },
          "colorway": [
           "#636efa",
           "#EF553B",
           "#00cc96",
           "#ab63fa",
           "#FFA15A",
           "#19d3f3",
           "#FF6692",
           "#B6E880",
           "#FF97FF",
           "#FECB52"
          ],
          "font": {
           "color": "#2a3f5f"
          },
          "geo": {
           "bgcolor": "white",
           "lakecolor": "white",
           "landcolor": "#E5ECF6",
           "showlakes": true,
           "showland": true,
           "subunitcolor": "white"
          },
          "hoverlabel": {
           "align": "left"
          },
          "hovermode": "closest",
          "mapbox": {
           "style": "light"
          },
          "paper_bgcolor": "white",
          "plot_bgcolor": "#E5ECF6",
          "polar": {
           "angularaxis": {
            "gridcolor": "white",
            "linecolor": "white",
            "ticks": ""
           },
           "bgcolor": "#E5ECF6",
           "radialaxis": {
            "gridcolor": "white",
            "linecolor": "white",
            "ticks": ""
           }
          },
          "scene": {
           "xaxis": {
            "backgroundcolor": "#E5ECF6",
            "gridcolor": "white",
            "gridwidth": 2,
            "linecolor": "white",
            "showbackground": true,
            "ticks": "",
            "zerolinecolor": "white"
           },
           "yaxis": {
            "backgroundcolor": "#E5ECF6",
            "gridcolor": "white",
            "gridwidth": 2,
            "linecolor": "white",
            "showbackground": true,
            "ticks": "",
            "zerolinecolor": "white"
           },
           "zaxis": {
            "backgroundcolor": "#E5ECF6",
            "gridcolor": "white",
            "gridwidth": 2,
            "linecolor": "white",
            "showbackground": true,
            "ticks": "",
            "zerolinecolor": "white"
           }
          },
          "shapedefaults": {
           "line": {
            "color": "#2a3f5f"
           }
          },
          "ternary": {
           "aaxis": {
            "gridcolor": "white",
            "linecolor": "white",
            "ticks": ""
           },
           "baxis": {
            "gridcolor": "white",
            "linecolor": "white",
            "ticks": ""
           },
           "bgcolor": "#E5ECF6",
           "caxis": {
            "gridcolor": "white",
            "linecolor": "white",
            "ticks": ""
           }
          },
          "title": {
           "x": 0.05
          },
          "xaxis": {
           "automargin": true,
           "gridcolor": "white",
           "linecolor": "white",
           "ticks": "",
           "title": {
            "standoff": 15
           },
           "zerolinecolor": "white",
           "zerolinewidth": 2
          },
          "yaxis": {
           "automargin": true,
           "gridcolor": "white",
           "linecolor": "white",
           "ticks": "",
           "title": {
            "standoff": 15
           },
           "zerolinecolor": "white",
           "zerolinewidth": 2
          }
         }
        }
       }
      },
      "text/html": [
       "<div>                            <div id=\"f115a2df-2cf5-463b-8614-7d17dd7b8fca\" class=\"plotly-graph-div\" style=\"height:525px; width:100%;\"></div>            <script type=\"text/javascript\">                require([\"plotly\"], function(Plotly) {                    window.PLOTLYENV=window.PLOTLYENV || {};                                    if (document.getElementById(\"f115a2df-2cf5-463b-8614-7d17dd7b8fca\")) {                    Plotly.newPlot(                        \"f115a2df-2cf5-463b-8614-7d17dd7b8fca\",                        [{\"mode\":\"lines+markers\",\"name\":\"SongHan\",\"type\":\"scatter\",\"x\":[0.110376,0.147058,0.292117,0.400215,0.471433,0.5416,0.609729,0.642984,0.737723,0.823288,0.917499,0.937824,0.939476,0.94189,0.947356,0.952241,0.955961,0.958972,0.961905,0.964393,0.966696,0.968891,0.970922,0.972809,0.974683,0.976314,0.977867,0.979354,0.980672,0.981851,0.986757,0.989879,0.990068,0.99027,0.990501,0.993801,0.993858,0.993965,0.994048,0.994142,0.994307,0.995102,0.995819],\"y\":[0.880957,0.861621,0.871094,0.871582,0.875,0.879883,0.87793,0.872461,0.876758,0.872363,0.870605,0.868945,0.865234,0.865234,0.862988,0.861621,0.860645,0.860156,0.843555,0.839453,0.839551,0.837793,0.77002,0.765332,0.763672,0.760742,0.759961,0.756738,0.756934,0.755469,0.606934,0.503223,0.50293,0.499121,0.499512,0.434863,0.445898,0.447266,0.447168,0.447754,0.438574,0.28291,0.1875]},{\"mode\":\"lines+markers\",\"name\":\"ThresholdOnMean\",\"type\":\"scatter\",\"x\":[0.064668,0.127392,0.190491,0.253656,0.379129,0.502529,0.562757,0.678426,0.784278,0.871883,0.923682,0.932432,0.940188,0.947006,0.952929,0.955075,0.956155,0.958202,0.962193,0.970786,0.972076,0.976866,0.979371,0.983506,0.985216,0.987861,0.991444,0.99385,0.997722],\"y\":[0.877344,0.87998,0.879883,0.880762,0.880859,0.87998,0.878809,0.877441,0.875781,0.87207,0.865723,0.866797,0.868359,0.866895,0.866406,0.864355,0.864355,0.861719,0.864355,0.860547,0.855469,0.848926,0.841797,0.841309,0.835645,0.80625,0.687109,0.574707,0.175098]},{\"mode\":\"lines+markers\",\"name\":\"BezierMean\",\"type\":\"scatter\",\"x\":[0.061583,0.113687,0.166196,0.38567,0.46913,0.541411,0.541629,0.632764,0.668037,0.755415,0.854569,0.92264,0.939327,0.94072,0.943039,0.958943,0.960813,0.963858,0.965312,0.967878,0.970951,0.972982,0.975519,0.976776,0.979029,0.980429,0.980944,0.985134,0.987708,0.99483,0.995378,0.995844,0.99661],\"y\":[0.891504,0.892187,0.891992,0.89375,0.888574,0.895801,0.894824,0.890918,0.89502,0.894238,0.891113,0.883887,0.881934,0.87959,0.878613,0.875098,0.867285,0.864648,0.870215,0.863965,0.802734,0.798926,0.84707,0.843262,0.848437,0.843066,0.841113,0.807617,0.673633,0.665625,0.621094,0.484766,0.192383]},{\"mode\":\"lines+markers\",\"name\":\"BezierActual\",\"type\":\"scatter\",\"x\":[0.108534,0.14459,0.17153,0.342438,0.405129,0.503065,0.595645,0.632471,0.65528,0.786635,0.828289,0.926422,0.938578,0.941276,0.943776,0.94827,0.954635,0.956126,0.960698,0.964364,0.965398,0.967763,0.970679,0.971132,0.974082,0.977756,0.978102,0.979758,0.980924,0.982538,0.989512,0.989858,0.989957,0.990493,0.990604,0.993829,0.993912,0.994488,0.995807,0.995864],\"y\":[0.889551,0.89043,0.890918,0.891992,0.891211,0.892969,0.892676,0.894727,0.894141,0.895215,0.892969,0.885059,0.876562,0.876562,0.87793,0.87041,0.870801,0.869336,0.869141,0.872168,0.872754,0.873828,0.875293,0.874219,0.874609,0.861523,0.861719,0.858594,0.85625,0.845703,0.702148,0.693652,0.684668,0.685156,0.698535,0.510645,0.499805,0.455859,0.537598,0.446387]}],                        {\"template\":{\"data\":{\"bar\":[{\"error_x\":{\"color\":\"#2a3f5f\"},\"error_y\":{\"color\":\"#2a3f5f\"},\"marker\":{\"line\":{\"color\":\"#E5ECF6\",\"width\":0.5},\"pattern\":{\"fillmode\":\"overlay\",\"size\":10,\"solidity\":0.2}},\"type\":\"bar\"}],\"barpolar\":[{\"marker\":{\"line\":{\"color\":\"#E5ECF6\",\"width\":0.5},\"pattern\":{\"fillmode\":\"overlay\",\"size\":10,\"solidity\":0.2}},\"type\":\"barpolar\"}],\"carpet\":[{\"aaxis\":{\"endlinecolor\":\"#2a3f5f\",\"gridcolor\":\"white\",\"linecolor\":\"white\",\"minorgridcolor\":\"white\",\"startlinecolor\":\"#2a3f5f\"},\"baxis\":{\"endlinecolor\":\"#2a3f5f\",\"gridcolor\":\"white\",\"linecolor\":\"white\",\"minorgridcolor\":\"white\",\"startlinecolor\":\"#2a3f5f\"},\"type\":\"carpet\"}],\"choropleth\":[{\"colorbar\":{\"outlinewidth\":0,\"ticks\":\"\"},\"type\":\"choropleth\"}],\"contour\":[{\"colorbar\":{\"outlinewidth\":0,\"ticks\":\"\"},\"colorscale\":[[0.0,\"#0d0887\"],[0.1111111111111111,\"#46039f\"],[0.2222222222222222,\"#7201a8\"],[0.3333333333333333,\"#9c179e\"],[0.4444444444444444,\"#bd3786\"],[0.5555555555555556,\"#d8576b\"],[0.6666666666666666,\"#ed7953\"],[0.7777777777777778,\"#fb9f3a\"],[0.8888888888888888,\"#fdca26\"],[1.0,\"#f0f921\"]],\"type\":\"contour\"}],\"contourcarpet\":[{\"colorbar\":{\"outlinewidth\":0,\"ticks\":\"\"},\"type\":\"contourcarpet\"}],\"heatmap\":[{\"colorbar\":{\"outlinewidth\":0,\"ticks\":\"\"},\"colorscale\":[[0.0,\"#0d0887\"],[0.1111111111111111,\"#46039f\"],[0.2222222222222222,\"#7201a8\"],[0.3333333333333333,\"#9c179e\"],[0.4444444444444444,\"#bd3786\"],[0.5555555555555556,\"#d8576b\"],[0.6666666666666666,\"#ed7953\"],[0.7777777777777778,\"#fb9f3a\"],[0.8888888888888888,\"#fdca26\"],[1.0,\"#f0f921\"]],\"type\":\"heatmap\"}],\"heatmapgl\":[{\"colorbar\":{\"outlinewidth\":0,\"ticks\":\"\"},\"colorscale\":[[0.0,\"#0d0887\"],[0.1111111111111111,\"#46039f\"],[0.2222222222222222,\"#7201a8\"],[0.3333333333333333,\"#9c179e\"],[0.4444444444444444,\"#bd3786\"],[0.5555555555555556,\"#d8576b\"],[0.6666666666666666,\"#ed7953\"],[0.7777777777777778,\"#fb9f3a\"],[0.8888888888888888,\"#fdca26\"],[1.0,\"#f0f921\"]],\"type\":\"heatmapgl\"}],\"histogram\":[{\"marker\":{\"pattern\":{\"fillmode\":\"overlay\",\"size\":10,\"solidity\":0.2}},\"type\":\"histogram\"}],\"histogram2d\":[{\"colorbar\":{\"outlinewidth\":0,\"ticks\":\"\"},\"colorscale\":[[0.0,\"#0d0887\"],[0.1111111111111111,\"#46039f\"],[0.2222222222222222,\"#7201a8\"],[0.3333333333333333,\"#9c179e\"],[0.4444444444444444,\"#bd3786\"],[0.5555555555555556,\"#d8576b\"],[0.6666666666666666,\"#ed7953\"],[0.7777777777777778,\"#fb9f3a\"],[0.8888888888888888,\"#fdca26\"],[1.0,\"#f0f921\"]],\"type\":\"histogram2d\"}],\"histogram2dcontour\":[{\"colorbar\":{\"outlinewidth\":0,\"ticks\":\"\"},\"colorscale\":[[0.0,\"#0d0887\"],[0.1111111111111111,\"#46039f\"],[0.2222222222222222,\"#7201a8\"],[0.3333333333333333,\"#9c179e\"],[0.4444444444444444,\"#bd3786\"],[0.5555555555555556,\"#d8576b\"],[0.6666666666666666,\"#ed7953\"],[0.7777777777777778,\"#fb9f3a\"],[0.8888888888888888,\"#fdca26\"],[1.0,\"#f0f921\"]],\"type\":\"histogram2dcontour\"}],\"mesh3d\":[{\"colorbar\":{\"outlinewidth\":0,\"ticks\":\"\"},\"type\":\"mesh3d\"}],\"parcoords\":[{\"line\":{\"colorbar\":{\"outlinewidth\":0,\"ticks\":\"\"}},\"type\":\"parcoords\"}],\"pie\":[{\"automargin\":true,\"type\":\"pie\"}],\"scatter\":[{\"marker\":{\"colorbar\":{\"outlinewidth\":0,\"ticks\":\"\"}},\"type\":\"scatter\"}],\"scatter3d\":[{\"line\":{\"colorbar\":{\"outlinewidth\":0,\"ticks\":\"\"}},\"marker\":{\"colorbar\":{\"outlinewidth\":0,\"ticks\":\"\"}},\"type\":\"scatter3d\"}],\"scattercarpet\":[{\"marker\":{\"colorbar\":{\"outlinewidth\":0,\"ticks\":\"\"}},\"type\":\"scattercarpet\"}],\"scattergeo\":[{\"marker\":{\"colorbar\":{\"outlinewidth\":0,\"ticks\":\"\"}},\"type\":\"scattergeo\"}],\"scattergl\":[{\"marker\":{\"colorbar\":{\"outlinewidth\":0,\"ticks\":\"\"}},\"type\":\"scattergl\"}],\"scattermapbox\":[{\"marker\":{\"colorbar\":{\"outlinewidth\":0,\"ticks\":\"\"}},\"type\":\"scattermapbox\"}],\"scatterpolar\":[{\"marker\":{\"colorbar\":{\"outlinewidth\":0,\"ticks\":\"\"}},\"type\":\"scatterpolar\"}],\"scatterpolargl\":[{\"marker\":{\"colorbar\":{\"outlinewidth\":0,\"ticks\":\"\"}},\"type\":\"scatterpolargl\"}],\"scatterternary\":[{\"marker\":{\"colorbar\":{\"outlinewidth\":0,\"ticks\":\"\"}},\"type\":\"scatterternary\"}],\"surface\":[{\"colorbar\":{\"outlinewidth\":0,\"ticks\":\"\"},\"colorscale\":[[0.0,\"#0d0887\"],[0.1111111111111111,\"#46039f\"],[0.2222222222222222,\"#7201a8\"],[0.3333333333333333,\"#9c179e\"],[0.4444444444444444,\"#bd3786\"],[0.5555555555555556,\"#d8576b\"],[0.6666666666666666,\"#ed7953\"],[0.7777777777777778,\"#fb9f3a\"],[0.8888888888888888,\"#fdca26\"],[1.0,\"#f0f921\"]],\"type\":\"surface\"}],\"table\":[{\"cells\":{\"fill\":{\"color\":\"#EBF0F8\"},\"line\":{\"color\":\"white\"}},\"header\":{\"fill\":{\"color\":\"#C8D4E3\"},\"line\":{\"color\":\"white\"}},\"type\":\"table\"}]},\"layout\":{\"annotationdefaults\":{\"arrowcolor\":\"#2a3f5f\",\"arrowhead\":0,\"arrowwidth\":1},\"autotypenumbers\":\"strict\",\"coloraxis\":{\"colorbar\":{\"outlinewidth\":0,\"ticks\":\"\"}},\"colorscale\":{\"diverging\":[[0,\"#8e0152\"],[0.1,\"#c51b7d\"],[0.2,\"#de77ae\"],[0.3,\"#f1b6da\"],[0.4,\"#fde0ef\"],[0.5,\"#f7f7f7\"],[0.6,\"#e6f5d0\"],[0.7,\"#b8e186\"],[0.8,\"#7fbc41\"],[0.9,\"#4d9221\"],[1,\"#276419\"]],\"sequential\":[[0.0,\"#0d0887\"],[0.1111111111111111,\"#46039f\"],[0.2222222222222222,\"#7201a8\"],[0.3333333333333333,\"#9c179e\"],[0.4444444444444444,\"#bd3786\"],[0.5555555555555556,\"#d8576b\"],[0.6666666666666666,\"#ed7953\"],[0.7777777777777778,\"#fb9f3a\"],[0.8888888888888888,\"#fdca26\"],[1.0,\"#f0f921\"]],\"sequentialminus\":[[0.0,\"#0d0887\"],[0.1111111111111111,\"#46039f\"],[0.2222222222222222,\"#7201a8\"],[0.3333333333333333,\"#9c179e\"],[0.4444444444444444,\"#bd3786\"],[0.5555555555555556,\"#d8576b\"],[0.6666666666666666,\"#ed7953\"],[0.7777777777777778,\"#fb9f3a\"],[0.8888888888888888,\"#fdca26\"],[1.0,\"#f0f921\"]]},\"colorway\":[\"#636efa\",\"#EF553B\",\"#00cc96\",\"#ab63fa\",\"#FFA15A\",\"#19d3f3\",\"#FF6692\",\"#B6E880\",\"#FF97FF\",\"#FECB52\"],\"font\":{\"color\":\"#2a3f5f\"},\"geo\":{\"bgcolor\":\"white\",\"lakecolor\":\"white\",\"landcolor\":\"#E5ECF6\",\"showlakes\":true,\"showland\":true,\"subunitcolor\":\"white\"},\"hoverlabel\":{\"align\":\"left\"},\"hovermode\":\"closest\",\"mapbox\":{\"style\":\"light\"},\"paper_bgcolor\":\"white\",\"plot_bgcolor\":\"#E5ECF6\",\"polar\":{\"angularaxis\":{\"gridcolor\":\"white\",\"linecolor\":\"white\",\"ticks\":\"\"},\"bgcolor\":\"#E5ECF6\",\"radialaxis\":{\"gridcolor\":\"white\",\"linecolor\":\"white\",\"ticks\":\"\"}},\"scene\":{\"xaxis\":{\"backgroundcolor\":\"#E5ECF6\",\"gridcolor\":\"white\",\"gridwidth\":2,\"linecolor\":\"white\",\"showbackground\":true,\"ticks\":\"\",\"zerolinecolor\":\"white\"},\"yaxis\":{\"backgroundcolor\":\"#E5ECF6\",\"gridcolor\":\"white\",\"gridwidth\":2,\"linecolor\":\"white\",\"showbackground\":true,\"ticks\":\"\",\"zerolinecolor\":\"white\"},\"zaxis\":{\"backgroundcolor\":\"#E5ECF6\",\"gridcolor\":\"white\",\"gridwidth\":2,\"linecolor\":\"white\",\"showbackground\":true,\"ticks\":\"\",\"zerolinecolor\":\"white\"}},\"shapedefaults\":{\"line\":{\"color\":\"#2a3f5f\"}},\"ternary\":{\"aaxis\":{\"gridcolor\":\"white\",\"linecolor\":\"white\",\"ticks\":\"\"},\"baxis\":{\"gridcolor\":\"white\",\"linecolor\":\"white\",\"ticks\":\"\"},\"bgcolor\":\"#E5ECF6\",\"caxis\":{\"gridcolor\":\"white\",\"linecolor\":\"white\",\"ticks\":\"\"}},\"title\":{\"x\":0.05},\"xaxis\":{\"automargin\":true,\"gridcolor\":\"white\",\"linecolor\":\"white\",\"ticks\":\"\",\"title\":{\"standoff\":15},\"zerolinecolor\":\"white\",\"zerolinewidth\":2},\"yaxis\":{\"automargin\":true,\"gridcolor\":\"white\",\"linecolor\":\"white\",\"ticks\":\"\",\"title\":{\"standoff\":15},\"zerolinecolor\":\"white\",\"zerolinewidth\":2}}}},                        {\"responsive\": true}                    ).then(function(){\n",
       "                            \n",
       "var gd = document.getElementById('f115a2df-2cf5-463b-8614-7d17dd7b8fca');\n",
       "var x = new MutationObserver(function (mutations, observer) {{\n",
       "        var display = window.getComputedStyle(gd).display;\n",
       "        if (!display || display === 'none') {{\n",
       "            console.log([gd, 'removed!']);\n",
       "            Plotly.purge(gd);\n",
       "            observer.disconnect();\n",
       "        }}\n",
       "}});\n",
       "\n",
       "// Listen for the removal of the full notebook cells\n",
       "var notebookContainer = gd.closest('#notebook-container');\n",
       "if (notebookContainer) {{\n",
       "    x.observe(notebookContainer, {childList: true});\n",
       "}}\n",
       "\n",
       "// Listen for the clearing of the current output cell\n",
       "var outputEl = gd.closest('.output');\n",
       "if (outputEl) {{\n",
       "    x.observe(outputEl, {childList: true});\n",
       "}}\n",
       "\n",
       "                        })                };                });            </script>        </div>"
      ]
     },
     "metadata": {},
     "output_type": "display_data"
    }
   ],
   "source": [
    "fig = go.Figure()\n",
    "\n",
    "xs=df_snhn_filtered[\"compression\"]\n",
    "ys=df_snhn_filtered[\"top_1\"]\n",
    "fig.add_trace(go.Scatter(x=xs, y=ys,\n",
    "                mode='lines+markers',\n",
    "                name=\"SongHan\"))\n",
    "\n",
    "\n",
    "xs=df_mean_wt_best_manual[\"compression\"]\n",
    "ys=df_mean_wt_best_manual[\"val_top_1\"]\n",
    "fig.add_trace(go.Scatter(x=xs, y=ys,\n",
    "                mode='lines+markers',\n",
    "                name=\"ThresholdOnMean\"))\n",
    "\n",
    "xs=df_bez_mean_best_manual[\"compression\"]\n",
    "ys=df_bez_mean_best_manual[\"val_top_1\"]\n",
    "fig.add_trace(go.Scatter(x=xs, y=ys,\n",
    "                mode='lines+markers',\n",
    "                name=\"BezierMean\"))\n",
    "\n",
    "\n",
    "xs=df_bez_actual_best_manual[\"compression\"]\n",
    "ys=df_bez_actual_best_manual[\"val_top_1\"]\n",
    "fig.add_trace(go.Scatter(x=xs, y=ys,\n",
    "                mode='lines+markers',\n",
    "                name=\"BezierActual\"))\n",
    "\n",
    "\n",
    "\n",
    "fig.show()"
   ]
  },
  {
   "cell_type": "code",
   "execution_count": 69,
   "metadata": {},
   "outputs": [
    {
     "data": {
      "image/png": "[encoded data removed]",
      "text/plain": [
       "<Figure size 432x576 with 2 Axes>"
      ]
     },
     "metadata": {
      "needs_background": "light"
     },
     "output_type": "display_data"
    }
   ],
   "source": [
    "fig, axs = plt.subplots(2, 1,figsize=(6, 8))\n",
    "\n",
    "\n",
    "xs=df_snhn_filtered[\"compression\"].values\n",
    "ys=df_snhn_filtered[\"top_1\"].values\n",
    "axs[0].plot(xs,ys,marker='.',color=\"red\",label=\"Standard Pruning\")\n",
    "\n",
    "\n",
    "\n",
    "xs=df_mean_wt_best_manual[\"compression\"]\n",
    "ys=df_mean_wt_best_manual[\"val_top_1\"]\n",
    "axs[0].plot(xs,ys,marker='.',color=\"green\", label = \"Pruning based on weight evolution\")\n",
    "\n",
    "\n",
    "xs=df_bez_mean_best_manual[\"compression\"]\n",
    "ys=df_bez_mean_best_manual[\"val_top_1\"]\n",
    "axs[0].plot(xs,ys,marker='.',color=\"blue\", label = \"Bezier Curve on weight evolution\")\n",
    "\n",
    "\n",
    "xs=df_bez_actual_best_manual[\"compression\"]\n",
    "ys=df_bez_actual_best_manual[\"val_top_1\"]\n",
    "axs[0].plot(xs,ys,marker='.',color=\"orange\", label = \"Bezier Curve on weight magnitudes\")\n",
    "\n",
    "\n",
    "ys_baseline=[baseline_accuracy for i in range(len(xs))]\n",
    "axs[0].plot(xs,ys_baseline,color=\"black\", label = \"Baseline\",alpha=0.5)\n",
    "\n",
    "\n",
    "axs[0].set_title(\"a. Different types of pruning, FashionMNIST\")\n",
    "axs[0].legend()\n",
    "\n",
    "########################################################\n",
    "########################################################\n",
    "########################################################\n",
    "\n",
    "# now go for zoom\n",
    "\n",
    "left=0.9\n",
    "right=1\n",
    "\n",
    "xs=df_snhn_filtered[\"compression\"].values\n",
    "ys=df_snhn_filtered[\"top_1\"].values\n",
    "ys=ys[xs>=left]\n",
    "xs=xs[xs>=left]\n",
    "ys=ys[xs<=right]\n",
    "xs=xs[xs<=right]\n",
    "axs[1].plot(xs,ys,marker='.',color=\"red\",label=\"Standard Pruning\")\n",
    "\n",
    "\n",
    "\n",
    "xs=df_mean_wt_best_manual[\"compression\"]\n",
    "ys=df_mean_wt_best_manual[\"val_top_1\"]\n",
    "ys=ys[xs>=left]\n",
    "xs=xs[xs>=left]\n",
    "ys=ys[xs<=right]\n",
    "xs=xs[xs<=right]\n",
    "axs[1].plot(xs,ys,marker='.',color=\"green\", label = \"Pruning based on weight evolution\")\n",
    "\n",
    "\n",
    "\n",
    "xs=df_bez_mean_best_manual[\"compression\"]\n",
    "ys=df_bez_mean_best_manual[\"val_top_1\"]\n",
    "ys=ys[xs>=left]\n",
    "xs=xs[xs>=left]\n",
    "ys=ys[xs<=right]\n",
    "xs=xs[xs<=right]\n",
    "axs[1].plot(xs,ys,marker='.',color=\"blue\", label = \"Bezier Curve on weight evolution\")\n",
    "\n",
    "\n",
    "\n",
    "xs=df_bez_actual_best_manual[\"compression\"]\n",
    "ys=df_bez_actual_best_manual[\"val_top_1\"]\n",
    "ys=ys[xs>=left]\n",
    "xs=xs[xs>=left]\n",
    "ys=ys[xs<=right]\n",
    "xs=xs[xs<=right]\n",
    "axs[1].plot(xs,ys,marker='.',color=\"orange\", label = \"Bezier Curve on weight magnitudes\")\n",
    "\n",
    "xs_baseline=list(np.linspace(left,right,num=10))\n",
    "ys_baseline=[baseline_accuracy for i in range(len(xs_baseline))]\n",
    "axs[1].plot(xs_baseline,ys_baseline,color=\"black\", label = \"Baseline\",alpha=0.5)\n",
    "\n",
    "\n",
    "\n",
    "axs[1].set_title(\"b. Zoomed In\")\n",
    "axs[1].legend()\n",
    "\n",
    "fig.savefig(\"images/Complete_Zoomed_FashionMNIST.svg\")\n",
    "fig.savefig(\"images/Complete_Zoomed_FashionMNIST.png\",facecolor=\"white\", edgecolor='none')\n",
    "fig.show()\n",
    "\n"
   ]
  },
  {
   "cell_type": "code",
   "execution_count": null,
   "metadata": {},
   "outputs": [],
   "source": []
  },
  {
   "cell_type": "code",
   "execution_count": null,
   "metadata": {},
   "outputs": [],
   "source": []
  },
  {
   "cell_type": "code",
   "execution_count": null,
   "metadata": {},
   "outputs": [],
   "source": []
  }
 ],
 "metadata": {
  "kernelspec": {
   "display_name": "dlkernel",
   "language": "python",
   "name": "dlkernel"
  },
  "language_info": {
   "codemirror_mode": {
    "name": "ipython",
    "version": 3
   },
   "file_extension": ".py",
   "mimetype": "text/x-python",
   "name": "python",
   "nbconvert_exporter": "python",
   "pygments_lexer": "ipython3",
   "version": "3.6.13"
  }
 },
 "nbformat": 4,
 "nbformat_minor": 4
}
